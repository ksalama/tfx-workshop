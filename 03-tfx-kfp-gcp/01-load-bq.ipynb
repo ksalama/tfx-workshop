{
 "cells": [
  {
   "cell_type": "markdown",
   "metadata": {},
   "source": [
    "# Dataset\n",
    "\n",
    "The dataset used in these labs is the **UCI Adult Dataset**: https://archive.ics.uci.edu/ml/datasets/adult.\n",
    "\n",
    "It is a classification dataset, where the task is to predict whether income exceeds 50K USD per yearr based on census data. It is also known as \"Census Income\" dataset."
   ]
  },
  {
   "cell_type": "markdown",
   "metadata": {},
   "source": [
    "## Load Data to BigQuery"
   ]
  },
  {
   "cell_type": "markdown",
   "metadata": {},
   "source": [
    "### 1. Create BigQuery Dataset"
   ]
  },
  {
   "cell_type": "code",
   "execution_count": null,
   "metadata": {},
   "outputs": [],
   "source": [
    "PROJECT='ksalama-ocado'\n",
    "DATASET='sample_datasets'\n",
    "TABLE='census'\n",
    "LOCATION='EU'\n",
    "\n",
    "!bq --location=$LOCATION mk --dataset $PROJECT:$DATASET"
   ]
  },
  {
   "cell_type": "code",
   "execution_count": null,
   "metadata": {},
   "outputs": [],
   "source": [
    "!echo $PROJECT:$DATASET"
   ]
  },
  {
   "cell_type": "markdown",
   "metadata": {},
   "source": [
    "### 2. Load Data to BigQuery Table"
   ]
  },
  {
   "cell_type": "code",
   "execution_count": null,
   "metadata": {},
   "outputs": [],
   "source": [
    "%%writefile table_schema.json\n",
    "[\n",
    "  {\n",
    "    \"name\": \"age\",\n",
    "    \"type\": \"FLOAT64\"\n",
    "  },\n",
    "  {\n",
    "    \"name\": \"workclass\",\n",
    "    \"type\": \"STRING\"\n",
    "  },\n",
    "  {\n",
    "    \"name\": \"fnlwgt\",\n",
    "    \"type\": \"FLOAT64\"\n",
    "  },\n",
    "  {\n",
    "    \"name\": \"education\",\n",
    "    \"type\": \"STRING\"\n",
    "  },\n",
    "  {\n",
    "    \"name\": \"education_num\",\n",
    "    \"type\": \"FLOAT64\"\n",
    "  },\n",
    "  {\n",
    "    \"name\": \"marital_status\",\n",
    "    \"type\": \"STRING\"\n",
    "  },\n",
    "  {\n",
    "    \"name\": \"occupation\",\n",
    "    \"type\": \"STRING\"\n",
    "  },\n",
    "  {\n",
    "    \"name\": \"relationship\",\n",
    "    \"type\": \"STRING\"\n",
    "  },\n",
    "  {\n",
    "    \"name\": \"race\",\n",
    "    \"type\": \"STRING\"\n",
    "  },\n",
    "  {\n",
    "    \"name\": \"gender\",\n",
    "    \"type\": \"STRING\"\n",
    "  },\n",
    "  {\n",
    "    \"name\": \"capital_gain\",\n",
    "    \"type\": \"FLOAT64\"\n",
    "  },\n",
    "  {\n",
    "    \"name\": \"capital_loss\",\n",
    "    \"type\": \"FLOAT64\"\n",
    "  },\n",
    "  {\n",
    "    \"name\": \"hours_per_week\",\n",
    "    \"type\": \"FLOAT64\"\n",
    "  },\n",
    "  {\n",
    "    \"name\": \"native_country\",\n",
    "    \"type\": \"STRING\"\n",
    "  },\n",
    "  {\n",
    "    \"name\": \"income_bracket\",\n",
    "    \"type\": \"STRING\"\n",
    "  }\n",
    "]"
   ]
  },
  {
   "cell_type": "code",
   "execution_count": null,
   "metadata": {},
   "outputs": [],
   "source": [
    "!bq --location=$LOCATION load --source_format=CSV $DATASET'.'$TABLE gs://cloud-samples-data/ml-engine/census/data/adult.*.csv table_schema.json"
   ]
  },
  {
   "cell_type": "code",
   "execution_count": null,
   "metadata": {},
   "outputs": [],
   "source": [
    "!pip install -q pandas_gbq"
   ]
  },
  {
   "cell_type": "code",
   "execution_count": null,
   "metadata": {},
   "outputs": [],
   "source": [
    "import pandas as pd\n",
    "\n",
    "query = '''\n",
    "    SELECT * \n",
    "    FROM sample_datasets.census\n",
    "    LIMIT 5;\n",
    "'''\n",
    "\n",
    "pd.io.gbq.read_gbq(query, project_id=PROJECT,)"
   ]
  },
  {
   "cell_type": "code",
   "execution_count": null,
   "metadata": {},
   "outputs": [],
   "source": []
  }
 ],
 "metadata": {
  "kernelspec": {
   "display_name": "Python 3",
   "language": "python",
   "name": "python3"
  },
  "language_info": {
   "codemirror_mode": {
    "name": "ipython",
    "version": 3
   },
   "file_extension": ".py",
   "mimetype": "text/x-python",
   "name": "python",
   "nbconvert_exporter": "python",
   "pygments_lexer": "ipython3",
   "version": "3.5.6"
  }
 },
 "nbformat": 4,
 "nbformat_minor": 4
}
