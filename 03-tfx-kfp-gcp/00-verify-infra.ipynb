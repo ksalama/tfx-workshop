{
 "cells": [
  {
   "cell_type": "markdown",
   "metadata": {},
   "source": [
    "# Verifying the MLOps environment on GCP"
   ]
  },
  {
   "cell_type": "markdown",
   "metadata": {},
   "source": [
    "## Listing the installed packages"
   ]
  },
  {
   "cell_type": "code",
   "execution_count": null,
   "metadata": {},
   "outputs": [],
   "source": [
    "!pip install -U -q pip"
   ]
  },
  {
   "cell_type": "code",
   "execution_count": null,
   "metadata": {},
   "outputs": [],
   "source": [
    "!pip list | grep 'tfx\\|kfp\\|beam\\|tensorflow'"
   ]
  },
  {
   "cell_type": "markdown",
   "metadata": {},
   "source": [
    "## Connecting to KFP and listing experiments"
   ]
  },
  {
   "cell_type": "code",
   "execution_count": null,
   "metadata": {},
   "outputs": [],
   "source": [
    "%%bash\n",
    "\n",
    "PREFIX=ksalama-mlops-dev\n",
    "ZONE=europe-west1-b\n",
    "NAMESPACE=kfp\n",
    "\n",
    "gcloud container clusters get-credentials $PREFIX-cluster --zone $ZONE\n",
    "\n",
    "echo \"https://\"$(kubectl describe configmap inverse-proxy-config -n $NAMESPACE | \\\n",
    "grep \"googleusercontent.com\")"
   ]
  },
  {
   "cell_type": "markdown",
   "metadata": {},
   "source": [
    "Use the URL produced by the previous cell as the **HOST_URL**"
   ]
  },
  {
   "cell_type": "code",
   "execution_count": null,
   "metadata": {},
   "outputs": [],
   "source": [
    "import kfp\n",
    "\n",
    "HOST_URL = '1b9d5077b0e28704-dot-europe-west6.notebooks.googleusercontent.com'\n",
    "NAMESPACE = 'kfp'\n",
    "  \n",
    "client = kfp.Client(host=HOST_URL, namespace=NAMESPACE)\n",
    "[pipeline.name for pipeline in client.list_pipelines().pipelines]"
   ]
  },
  {
   "cell_type": "markdown",
   "metadata": {},
   "source": [
    "## Connectiong to Cloud SQL ML Metadata and list tables\n",
    "[This page](https://cloud.google.com/sql/docs/mysql/connect-admin-proxy) describes how to connect a mysql client to your Cloud SQL instance using the Cloud SQL Proxy."
   ]
  },
  {
   "cell_type": "code",
   "execution_count": null,
   "metadata": {},
   "outputs": [],
   "source": [
    "!pip install -U -q mysql-connector"
   ]
  },
  {
   "cell_type": "code",
   "execution_count": null,
   "metadata": {},
   "outputs": [],
   "source": [
    "import mysql.connector\n",
    "\n",
    "metadb = mysql.connector.connect(\n",
    "    host='127.0.0.1',\n",
    "    port=3306,\n",
    "    database='metadb',\n",
    "    user=\"root\",\n",
    "    passwd=\"password\"\n",
    ")\n",
    "\n",
    "cursor = metadb.cursor(buffered=True)"
   ]
  },
  {
   "cell_type": "code",
   "execution_count": null,
   "metadata": {},
   "outputs": [],
   "source": [
    "cursor.execute(\"SHOW TABLES FROM metadb;\")\n",
    "cursor.fetchall()"
   ]
  },
  {
   "cell_type": "code",
   "execution_count": null,
   "metadata": {},
   "outputs": [],
   "source": []
  }
 ],
 "metadata": {
  "kernelspec": {
   "display_name": "Python 3",
   "language": "python",
   "name": "python3"
  },
  "language_info": {
   "codemirror_mode": {
    "name": "ipython",
    "version": 3
   },
   "file_extension": ".py",
   "mimetype": "text/x-python",
   "name": "python",
   "nbconvert_exporter": "python",
   "pygments_lexer": "ipython3",
   "version": "3.5.6"
  }
 },
 "nbformat": 4,
 "nbformat_minor": 4
}
