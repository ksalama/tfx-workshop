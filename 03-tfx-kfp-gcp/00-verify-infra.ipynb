{
 "cells": [
  {
   "cell_type": "markdown",
   "metadata": {},
   "source": [
    "# Verifying the MLOps environment on GCP"
   ]
  },
  {
   "cell_type": "markdown",
   "metadata": {},
   "source": [
    "## Listing the installed packages"
   ]
  },
  {
   "cell_type": "code",
   "execution_count": null,
   "metadata": {},
   "outputs": [],
   "source": [
    "!pip install -U -q pip"
   ]
  },
  {
   "cell_type": "code",
   "execution_count": 1,
   "metadata": {},
   "outputs": [
    {
     "name": "stdout",
     "output_type": "stream",
     "text": [
      "apache-beam                        2.16.0           \n",
      "kfp                                0.1.36           \n",
      "kfp-server-api                     0.1.18.3         \n",
      "tensorflow                         1.15.0           \n",
      "tensorflow-data-validation         0.15.0           \n",
      "tensorflow-datasets                1.2.0            \n",
      "tensorflow-estimator               1.15.1           \n",
      "tensorflow-hub                     0.6.0            \n",
      "tensorflow-io                      0.8.0            \n",
      "tensorflow-metadata                0.15.0           \n",
      "tensorflow-model-analysis          0.15.4           \n",
      "tensorflow-probability             0.8.0            \n",
      "tensorflow-serving-api             2.0.0            \n",
      "tensorflow-transform               0.15.0           \n",
      "tfx                                0.15.0           \n",
      "tfx-bsl                            0.15.3           \n"
     ]
    }
   ],
   "source": [
    "!pip list | grep 'tfx\\|kfp\\|beam\\|tensorflow'"
   ]
  },
  {
   "cell_type": "markdown",
   "metadata": {},
   "source": [
    "## Connecting to KFP and listing experiments"
   ]
  },
  {
   "cell_type": "code",
   "execution_count": 2,
   "metadata": {},
   "outputs": [
    {
     "name": "stdout",
     "output_type": "stream",
     "text": [
      "https://1b9d5077b0e28704-dot-europe-west6.notebooks.googleusercontent.com\n"
     ]
    },
    {
     "name": "stderr",
     "output_type": "stream",
     "text": [
      "Fetching cluster endpoint and auth data.\n",
      "kubeconfig entry generated for ksalama-mlops-dev-cluster.\n"
     ]
    }
   ],
   "source": [
    "%%bash\n",
    "\n",
    "PREFIX=ksalama-mlops-dev\n",
    "ZONE=europe-west1-b\n",
    "NAMESPACE=kfp\n",
    "\n",
    "gcloud container clusters get-credentials $PREFIX-cluster --zone $ZONE\n",
    "\n",
    "echo \"https://\"$(kubectl describe configmap inverse-proxy-config -n $NAMESPACE | \\\n",
    "grep \"googleusercontent.com\")"
   ]
  },
  {
   "cell_type": "markdown",
   "metadata": {},
   "source": [
    "Use the URL produced by the previous cell as the **HOST_URL**"
   ]
  },
  {
   "cell_type": "code",
   "execution_count": 3,
   "metadata": {},
   "outputs": [
    {
     "data": {
      "text/plain": [
       "['[Sample] ML - XGBoost - Training with Confusion Matrix',\n",
       " '[Sample] Unified DSL - Taxi Tip Prediction Model Trainer',\n",
       " '[Sample] Basic - Sequential execution',\n",
       " '[Sample] Basic - Parallel execution',\n",
       " '[Sample] Basic - Conditional execution',\n",
       " '[Sample] Basic - Exit Handler']"
      ]
     },
     "execution_count": 3,
     "metadata": {},
     "output_type": "execute_result"
    }
   ],
   "source": [
    "import kfp\n",
    "\n",
    "HOST_URL = '1b9d5077b0e28704-dot-europe-west6.notebooks.googleusercontent.com'\n",
    "NAMESPACE = 'kfp'\n",
    "  \n",
    "client = kfp.Client(host=HOST_URL, namespace=NAMESPACE)\n",
    "[pipeline.name for pipeline in client.list_pipelines().pipelines]"
   ]
  },
  {
   "cell_type": "markdown",
   "metadata": {},
   "source": [
    "## Connectiong to Cloud SQL ML Metadata and list tables\n",
    "[This page](https://cloud.google.com/sql/docs/mysql/connect-admin-proxy) describes how to connect a mysql client to your Cloud SQL instance using the Cloud SQL Proxy."
   ]
  },
  {
   "cell_type": "code",
   "execution_count": 4,
   "metadata": {},
   "outputs": [],
   "source": [
    "!pip install -U -q mysql-connector"
   ]
  },
  {
   "cell_type": "code",
   "execution_count": 5,
   "metadata": {},
   "outputs": [],
   "source": [
    "import mysql.connector\n",
    "\n",
    "metadb = mysql.connector.connect(\n",
    "    host='127.0.0.1',\n",
    "    port=3306,\n",
    "    database='metadb',\n",
    "    user=\"root\",\n",
    "    passwd=\"password\"\n",
    ")\n",
    "\n",
    "cursor = metadb.cursor(buffered=True)"
   ]
  },
  {
   "cell_type": "code",
   "execution_count": 6,
   "metadata": {},
   "outputs": [
    {
     "data": {
      "text/plain": [
       "[('Artifact',),\n",
       " ('ArtifactProperty',),\n",
       " ('Association',),\n",
       " ('Attribution',),\n",
       " ('Context',),\n",
       " ('ContextProperty',),\n",
       " ('Event',),\n",
       " ('EventPath',),\n",
       " ('Execution',),\n",
       " ('ExecutionProperty',),\n",
       " ('MLMDEnv',),\n",
       " ('Type',),\n",
       " ('TypeProperty',)]"
      ]
     },
     "execution_count": 6,
     "metadata": {},
     "output_type": "execute_result"
    }
   ],
   "source": [
    "cursor.execute(\"SHOW TABLES FROM metadb;\")\n",
    "cursor.fetchall()"
   ]
  },
  {
   "cell_type": "code",
   "execution_count": null,
   "metadata": {},
   "outputs": [],
   "source": []
  }
 ],
 "metadata": {
  "kernelspec": {
   "display_name": "Python 3",
   "language": "python",
   "name": "python3"
  },
  "language_info": {
   "codemirror_mode": {
    "name": "ipython",
    "version": 3
   },
   "file_extension": ".py",
   "mimetype": "text/x-python",
   "name": "python",
   "nbconvert_exporter": "python",
   "pygments_lexer": "ipython3",
   "version": "3.5.6"
  }
 },
 "nbformat": 4,
 "nbformat_minor": 4
}
