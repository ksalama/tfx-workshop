{
 "cells": [
  {
   "cell_type": "markdown",
   "metadata": {},
   "source": [
    "# Compile and Deploy the TFX Pipeline to KFP\n",
    "\n",
    "This Notebook helps you to compile the **TFX Pipeline** to a **KFP package**. This will creat an **Argo YAML** file in a **.tar.gz** package. We perform the following steps:\n",
    "1. Build a custom container image that include our modules\n",
    "2. Compile TFX Pipeline using CLI\n",
    "3. Deploy the compiled pipeline to KFP \n",
    "\n",
    "After you deploy the pipeline, go to KFP UI, create a run, and execute the pipeline:\n",
    "\n",
    "<img valign=\"middle\" src=\"imgs/kfp.png\" width=\"800\">"
   ]
  },
  {
   "cell_type": "markdown",
   "metadata": {},
   "source": [
    "## 1. Build Container Image\n",
    "\n",
    "The pipeline uses a custom docker image, which is a derivative of the [tensorflow/tfx:0.15.0](https://hub.docker.com/r/tensorflow/tfx) image, as a runtime execution environment for the pipeline's components. The same image is also used as a a training image used by **AI Platform Training**.\n",
    "\n",
    "The custom image modifies the base image by:\n",
    " * Downgrading from Tensoflow v2.0 to v1.15 (since AI Platform Prediction is not supporting TF v2.0 yet).\n",
    " * Adding the `modules` folder, which includes the **train.py** and **transform.py** code files required by the **Trainer** and **Transform** components, as well as the implementation code for the custom **AccuracyModelValidator** component.\n"
   ]
  },
  {
   "cell_type": "code",
   "execution_count": null,
   "metadata": {
    "scrolled": true
   },
   "outputs": [],
   "source": [
    "PROJECT_ID='ksalama-ocado' # Set your GCP project Id\n",
    "IMAGE_NAME='tfx-image'\n",
    "TAG='latest'\n",
    "TFX_IMAGE='gcr.io/{}/{}:{}'.format(PROJECT_ID, IMAGE_NAME, TAG)\n",
    "\n",
    "!gcloud builds submit --tag $TFX_IMAGE ./ml-pipeline"
   ]
  },
  {
   "cell_type": "markdown",
   "metadata": {},
   "source": [
    "## 2. Compile TFX Pipeline using CLI"
   ]
  },
  {
   "cell_type": "code",
   "execution_count": null,
   "metadata": {},
   "outputs": [],
   "source": [
    "!tfx pipeline --help"
   ]
  },
  {
   "cell_type": "code",
   "execution_count": null,
   "metadata": {},
   "outputs": [],
   "source": [
    "%%bash \n",
    "\n",
    "export PROJECT_ID=$(gcloud config get-value core/project) # Set your GCP project Id\n",
    "\n",
    "export IMAGE_NAME=tfx-image\n",
    "export TAG=latest\n",
    "export TFX_IMAGE=gcr.io/${PROJECT_ID}/${IMAGE_NAME}:${TAG}\n",
    "\n",
    "export PREFIX=ksalama-mlops-dev # Set your prefix\n",
    "export NAMESPACE=kfp # Set your namespace\n",
    "export GCP_REGION=europe-west1 # Set your region\n",
    "export ZONE=europe-west1-b # Set your zone\n",
    "\n",
    "export ARTIFACT_STORE_URI=gs://${PREFIX}-artifact-store\n",
    "export GCS_STAGING_PATH=${ARTIFACT_STORE_URI}/staging\n",
    "export GKE_CLUSTER_NAME=${PREFIX}-cluster\n",
    "export DATASET_NAME=sample_datasets # Set your BigQuery Dataset\n",
    "    \n",
    "export PIPELINE_NAME=tfx_census_classification\n",
    "export RUNTIME_VERSION=1.15\n",
    "export PYTHON_VERSION=3.7\n",
    "\n",
    "tfx pipeline compile \\\n",
    "    --engine=kubeflow \\\n",
    "    --pipeline_path=ml-pipeline/pipeline.py "
   ]
  },
  {
   "cell_type": "markdown",
   "metadata": {},
   "source": [
    "## 3. Deploy the Compiled Pipeline to KFP"
   ]
  },
  {
   "cell_type": "code",
   "execution_count": null,
   "metadata": {},
   "outputs": [],
   "source": [
    "!kfp pipeline --help"
   ]
  },
  {
   "cell_type": "code",
   "execution_count": null,
   "metadata": {},
   "outputs": [],
   "source": [
    "%%bash\n",
    "\n",
    "export NAMESPACE=kfp # Set your namespac\n",
    "export PREFIX=ksalama-mlops-dev # Set your prefix\n",
    "export GKE_CLUSTER_NAME=${PREFIX}-cluster\n",
    "export ZONE=europe-west1-b # Set your zone\n",
    "export PIPELINE_NAME=tfx_census_classification\n",
    "\n",
    "gcloud container clusters get-credentials ${GKE_CLUSTER_NAM}E --zone ${ZONE}\n",
    "export INVERSE_PROXY_HOSTNAME=$(kubectl describe configmap inverse-proxy-config -n ${NAMESPACE} | grep \"googleusercontent.com\")\n",
    "\n",
    "kfp --namespace=${NAMESPACE} --endpoint=${INVERSE_PROXY_HOSTNAME} \\\n",
    "    pipeline upload \\\n",
    "    --pipeline-name=${PIPELINE_NAME} \\\n",
    "    ${PIPELINE_NAME}.tar.gz"
   ]
  },
  {
   "cell_type": "markdown",
   "metadata": {},
   "source": [
    "## Use the KFP UI to run the deployed pipeline..."
   ]
  },
  {
   "cell_type": "code",
   "execution_count": null,
   "metadata": {},
   "outputs": [],
   "source": []
  }
 ],
 "metadata": {
  "kernelspec": {
   "display_name": "Python 3",
   "language": "python",
   "name": "python3"
  },
  "language_info": {
   "codemirror_mode": {
    "name": "ipython",
    "version": 3
   },
   "file_extension": ".py",
   "mimetype": "text/x-python",
   "name": "python",
   "nbconvert_exporter": "python",
   "pygments_lexer": "ipython3",
   "version": "3.5.6"
  }
 },
 "nbformat": 4,
 "nbformat_minor": 4
}
