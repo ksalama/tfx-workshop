{
 "cells": [
  {
   "cell_type": "markdown",
   "metadata": {},
   "source": [
    "# Model Validation with TensorFlow Model Analysis\n",
    "\n",
    "In this lab, we use [TensorFlow Model Analysis](https://www.tensorflow.org/tfx/guide/tfma) to assess the quality of the trained model. This lab covers the following:\n",
    "1. **Export** evaluation saved model\n",
    "2. Define **data slices** for analysis\n",
    "3. Generat **evaluation** the metrics\n",
    "4. **Visualize** results"
   ]
  },
  {
   "cell_type": "code",
   "execution_count": null,
   "metadata": {},
   "outputs": [],
   "source": [
    "#!pip install -q tensorflow-model-analysis"
   ]
  },
  {
   "cell_type": "code",
   "execution_count": 1,
   "metadata": {},
   "outputs": [],
   "source": [
    "import os\n",
    "import tensorflow as tf\n",
    "import tensorflow.io as tf_io\n",
    "import tensorflow_transform as tft\n",
    "import tensorflow_model_analysis as tfma\n",
    "import tensorflow_data_validation as tfdv\n",
    "from tensorflow_transform.tf_metadata import schema_utils"
   ]
  },
  {
   "cell_type": "code",
   "execution_count": 2,
   "metadata": {},
   "outputs": [],
   "source": [
    "WORKSPACE = 'workspace' # you can set to a GCS location\n",
    "RAW_SCHEMA_LOCATION = os.path.join(WORKSPACE, 'raw_schema.pbtxt')\n",
    "DATA_DIR = os.path.join(WORKSPACE, 'raw_data')\n",
    "TRANSFORM_ARTEFACTS_DIR = os.path.join(WORKSPACE, 'transform_artifacts')\n",
    "DATA_FILES = os.path.join(DATA_DIR,'*.csv')\n",
    "MODELS_DIR = os.path.join(WORKSPACE, 'models')\n",
    "MODEL_NAME = 'dnn_classifier'\n",
    "MODEL_DIR = os.path.join(MODELS_DIR, MODEL_NAME)"
   ]
  },
  {
   "cell_type": "markdown",
   "metadata": {},
   "source": [
    "### Load TFT Outputs"
   ]
  },
  {
   "cell_type": "code",
   "execution_count": 11,
   "metadata": {},
   "outputs": [],
   "source": [
    "transform_output = tft.TFTransformOutput(TRANSFORM_ARTEFACTS_DIR)"
   ]
  },
  {
   "cell_type": "markdown",
   "metadata": {},
   "source": [
    "## 1. Export Evaluation Saved Model"
   ]
  },
  {
   "cell_type": "code",
   "execution_count": 5,
   "metadata": {},
   "outputs": [],
   "source": [
    "HEADER = ['age', 'workclass', 'fnlwgt', 'education', 'education_num',\n",
    "          'marital_status', 'occupation', 'relationship', 'race', 'gender',\n",
    "          'capital_gain', 'capital_loss', 'hours_per_week',\n",
    "          'native_country', 'income_bracket']\n",
    "\n",
    "HEADER_DEFAULTS = [[0], [''], [0], [''], [0], [''], [''], [''], [''], [''],\n",
    "                   [0], [0], [0], [''], ['']]\n",
    "\n",
    "TARGET_FEATURE_NAME = 'income_bracket'\n",
    "TARGET_LABELS = [' <=50K', ' >50K']\n",
    "WEIGHT_COLUMN_NAME = 'fnlwgt'"
   ]
  },
  {
   "cell_type": "markdown",
   "metadata": {},
   "source": [
    "### 1.1 Implement eval_input_receiver_fn\n",
    "This function expect **raw** data interface, then it applies the **transformation**"
   ]
  },
  {
   "cell_type": "code",
   "execution_count": 12,
   "metadata": {},
   "outputs": [],
   "source": [
    "def eval_input_receiver_fn():\n",
    "    \n",
    "    receiver_tensors = {'examples': tf.placeholder(dtype=tf.string, shape=[None])}\n",
    "    columns = tf.decode_csv(receiver_tensors['examples'], record_defaults=HEADER_DEFAULTS)\n",
    "    \n",
    "    features = dict(zip(HEADER, columns))\n",
    "    \n",
    "    for feature_name in features:\n",
    "        if features[feature_name].dtype == tf.int32:\n",
    "            features[feature_name] = tf.cast(features[feature_name], tf.int64)\n",
    "        features[feature_name] = tf.reshape(features[feature_name], (-1, 1))\n",
    "        \n",
    "    transformed_features = transform_output.transform_raw_features(features)\n",
    "    features.update(transformed_features)\n",
    "\n",
    "    return tfma.export.EvalInputReceiver(\n",
    "        features=features,\n",
    "        receiver_tensors=receiver_tensors,\n",
    "        labels=features[TARGET_FEATURE_NAME]\n",
    "    )"
   ]
  },
  {
   "cell_type": "markdown",
   "metadata": {},
   "source": [
    "### 1.2 Export an evaluation saved model\n",
    "First, we load the estimator..."
   ]
  },
  {
   "cell_type": "code",
   "execution_count": 13,
   "metadata": {},
   "outputs": [],
   "source": [
    "import joblib\n",
    "class Parameters: pass\n",
    "estimator = joblib.load( './estimator.joblib')"
   ]
  },
  {
   "cell_type": "code",
   "execution_count": 14,
   "metadata": {},
   "outputs": [],
   "source": [
    "def update_optimizer(initial_learning_rate, decay_steps):\n",
    "    learning_rate = tf.train.cosine_decay_restarts(\n",
    "        initial_learning_rate,\n",
    "        tf.train.get_global_step(),\n",
    "        first_decay_steps=50,\n",
    "        t_mul=2.0,\n",
    "        m_mul=1.0,\n",
    "        alpha=0.0,\n",
    "    )\n",
    "    \n",
    "    tf.summary.scalar('learning_rate', learning_rate)\n",
    "    return tf.train.AdamOptimizer(learning_rate=learning_rate)\n",
    "\n",
    "def metric_fn(labels, predictions):\n",
    "    \n",
    "    metrics = {}\n",
    "    label_index = tf.contrib.lookup.index_table_from_tensor(tf.constant(TARGET_LABELS)).lookup(labels)\n",
    "    one_hot_labels = tf.one_hot(label_index, len(TARGET_LABELS))\n",
    "    \n",
    "    metrics['mirco_accuracy'] = tf.metrics.mean_per_class_accuracy(\n",
    "        labels=label_index,\n",
    "        predictions=predictions['class_ids'],\n",
    "        num_classes=2\n",
    "    )\n",
    "    \n",
    "    return metrics"
   ]
  },
  {
   "cell_type": "code",
   "execution_count": 15,
   "metadata": {},
   "outputs": [],
   "source": [
    "TARGET_FEATURE_NAME = 'income_bracket'\n",
    "TARGET_LABELS = [' <=50K', ' >50K']\n",
    "WEIGHT_COLUMN_NAME = 'fnlwgt'"
   ]
  },
  {
   "cell_type": "code",
   "execution_count": 16,
   "metadata": {},
   "outputs": [
    {
     "data": {
      "text/plain": [
       "b'workspace/models/dnn_classifier/export/evaluate/1581343523'"
      ]
     },
     "execution_count": 16,
     "metadata": {},
     "output_type": "execute_result"
    }
   ],
   "source": [
    "tf.logging.set_verbosity(tf.logging.ERROR)\n",
    "\n",
    "eval_model_dir = os.path.join(MODEL_DIR, \"export/evaluate\")\n",
    "if tf_io.gfile.exists(eval_model_dir):\n",
    "    tf_io.gfile.rmtree(eval_model_dir)\n",
    "\n",
    "eval_model_dir = tfma.export.export_eval_savedmodel(\n",
    "        estimator=estimator,\n",
    "        export_dir_base=eval_model_dir,\n",
    "        eval_input_receiver_fn=eval_input_receiver_fn\n",
    ")\n",
    "\n",
    "eval_model_dir"
   ]
  },
  {
   "cell_type": "code",
   "execution_count": 18,
   "metadata": {},
   "outputs": [],
   "source": [
    "#!saved_model_cli show --dir=${eval_model_dir} --all"
   ]
  },
  {
   "cell_type": "markdown",
   "metadata": {},
   "source": [
    "## 2. Define Slices for Evaluation"
   ]
  },
  {
   "cell_type": "code",
   "execution_count": 19,
   "metadata": {},
   "outputs": [],
   "source": [
    "slice_spec = [\n",
    "  tfma.slicer.SingleSliceSpec(),\n",
    "  tfma.slicer.SingleSliceSpec(columns=['occupation'])\n",
    "]"
   ]
  },
  {
   "cell_type": "markdown",
   "metadata": {},
   "source": [
    "## 3. Generate evaluation metrics"
   ]
  },
  {
   "cell_type": "markdown",
   "metadata": {},
   "source": [
    "You can run this on Dataflow by setting the `pipeline_options` parameter."
   ]
  },
  {
   "cell_type": "code",
   "execution_count": 24,
   "metadata": {},
   "outputs": [],
   "source": [
    "eval_result = tfma.run_model_analysis(\n",
    "    eval_shared_model=tfma.default_eval_shared_model(\n",
    "        eval_saved_model_path=eval_model_dir,\n",
    "        example_weight_key=WEIGHT_COLUMN_NAME) , \n",
    "    data_location=DATA_FILES, \n",
    "    file_format='text', \n",
    "    slice_spec=slice_spec,  \n",
    "    output_path=None\n",
    ")"
   ]
  },
  {
   "cell_type": "code",
   "execution_count": 27,
   "metadata": {},
   "outputs": [
    {
     "data": {
      "text/plain": [
       "[((('occupation', ' Handlers-cleaners'),),\n",
       "  {'': {'': {'accuracy': {'doubleValue': 0.9415510296821594},\n",
       "     'accuracy_baseline': {'doubleValue': 0.9357296824455261},\n",
       "     'auc': {'doubleValue': 0.9308984875679016},\n",
       "     'auc_precision_recall': {'doubleValue': 0.47234880924224854},\n",
       "     'average_loss': {'doubleValue': 0.14452044665813446},\n",
       "     'label/mean': {'doubleValue': 0.06427029520273209},\n",
       "     'mirco_accuracy': {'doubleValue': 0.553313672542572},\n",
       "     'post_export_metrics/example_count': {'doubleValue': 2072.0},\n",
       "     'post_export_metrics/example_weight': {'doubleValue': 418652869.0},\n",
       "     'precision': {'doubleValue': 0.8398988842964172},\n",
       "     'prediction/mean': {'doubleValue': 0.06253305077552795},\n",
       "     'recall': {'doubleValue': 0.11190605163574219}}}}),\n",
       " ((('occupation', ' Priv-house-serv'),),\n",
       "  {'': {'': {'accuracy': {'doubleValue': 0.9944964647293091},\n",
       "     'accuracy_baseline': {'doubleValue': 0.9924167394638062},\n",
       "     'auc': {'doubleValue': 0.9962059259414673},\n",
       "     'auc_precision_recall': {'doubleValue': 0.6065585613250732},\n",
       "     'average_loss': {'doubleValue': 0.029064742848277092},\n",
       "     'label/mean': {'doubleValue': 0.007583235390484333},\n",
       "     'mirco_accuracy': {'doubleValue': 0.6666666865348816},\n",
       "     'post_export_metrics/example_count': {'doubleValue': 242.0},\n",
       "     'post_export_metrics/example_weight': {'doubleValue': 47064870.0},\n",
       "     'precision': {'doubleValue': 1.0},\n",
       "     'prediction/mean': {'doubleValue': 0.025596901774406433},\n",
       "     'recall': {'doubleValue': 0.27425581216812134}}}}),\n",
       " ((),\n",
       "  {'': {'': {'accuracy': {'doubleValue': 0.8507628440856934},\n",
       "     'accuracy_baseline': {'doubleValue': 0.7622271776199341},\n",
       "     'auc': {'doubleValue': 0.9207937717437744},\n",
       "     'auc_precision_recall': {'doubleValue': 0.798464298248291},\n",
       "     'average_loss': {'doubleValue': 0.3114161193370819},\n",
       "     'label/mean': {'doubleValue': 0.23777279257774353},\n",
       "     'mirco_accuracy': {'doubleValue': 0.7109888792037964},\n",
       "     'post_export_metrics/example_count': {'doubleValue': 48839.0},\n",
       "     'post_export_metrics/example_weight': {'doubleValue': 9262934640.0},\n",
       "     'precision': {'doubleValue': 0.8605473637580872},\n",
       "     'prediction/mean': {'doubleValue': 0.18978843092918396},\n",
       "     'recall': {'doubleValue': 0.4443635642528534}}}}),\n",
       " ((('occupation', ' Tech-support'),),\n",
       "  {'': {'': {'accuracy': {'doubleValue': 0.7839288711547852},\n",
       "     'accuracy_baseline': {'doubleValue': 0.7038893699645996},\n",
       "     'auc': {'doubleValue': 0.9079056978225708},\n",
       "     'auc_precision_recall': {'doubleValue': 0.7991710901260376},\n",
       "     'average_loss': {'doubleValue': 0.38556769490242004},\n",
       "     'label/mean': {'doubleValue': 0.2961106598377228},\n",
       "     'mirco_accuracy': {'doubleValue': 0.6556738615036011},\n",
       "     'post_export_metrics/example_count': {'doubleValue': 1446.0},\n",
       "     'post_export_metrics/example_weight': {'doubleValue': 275397223.0},\n",
       "     'precision': {'doubleValue': 0.8583542108535767},\n",
       "     'prediction/mean': {'doubleValue': 0.19902384281158447},\n",
       "     'recall': {'doubleValue': 0.32372328639030457}}}}),\n",
       " ((('occupation', ' Farming-fishing'),),\n",
       "  {'': {'': {'accuracy': {'doubleValue': 0.9195016026496887},\n",
       "     'accuracy_baseline': {'doubleValue': 0.9064939022064209},\n",
       "     'auc': {'doubleValue': 0.8601273894309998},\n",
       "     'auc_precision_recall': {'doubleValue': 0.4700384736061096},\n",
       "     'average_loss': {'doubleValue': 0.22584567964076996},\n",
       "     'label/mean': {'doubleValue': 0.09350606799125671},\n",
       "     'mirco_accuracy': {'doubleValue': 0.5851866006851196},\n",
       "     'post_export_metrics/example_count': {'doubleValue': 1490.0},\n",
       "     'post_export_metrics/example_weight': {'doubleValue': 257263213.0},\n",
       "     'precision': {'doubleValue': 0.8446985483169556},\n",
       "     'prediction/mean': {'doubleValue': 0.10326456278562546},\n",
       "     'recall': {'doubleValue': 0.17044714093208313}}}}),\n",
       " ((('occupation', ' ?'),),\n",
       "  {'': {'': {'accuracy': {'doubleValue': 0.9226439595222473},\n",
       "     'accuracy_baseline': {'doubleValue': 0.9067164659500122},\n",
       "     'auc': {'doubleValue': 0.9344614744186401},\n",
       "     'auc_precision_recall': {'doubleValue': 0.6424601078033447},\n",
       "     'average_loss': {'doubleValue': 0.1740437150001526},\n",
       "     'label/mean': {'doubleValue': 0.0932835042476654},\n",
       "     'mirco_accuracy': {'doubleValue': 0.6005110144615173},\n",
       "     'post_export_metrics/example_count': {'doubleValue': 2809.0},\n",
       "     'post_export_metrics/example_weight': {'doubleValue': 526276444.0},\n",
       "     'precision': {'doubleValue': 0.8729509711265564},\n",
       "     'prediction/mean': {'doubleValue': 0.07793485373258591},\n",
       "     'recall': {'doubleValue': 0.19982387125492096}}}}),\n",
       " ((('occupation', ' Armed-Forces'),),\n",
       "  {'': {'': {'accuracy': {'doubleValue': 0.7754727005958557},\n",
       "     'accuracy_baseline': {'doubleValue': 0.6186439990997314},\n",
       "     'auc': {'doubleValue': 1.0},\n",
       "     'auc_precision_recall': {'doubleValue': 1.0},\n",
       "     'average_loss': {'doubleValue': 0.34517231583595276},\n",
       "     'label/mean': {'doubleValue': 0.38135600090026855},\n",
       "     'mirco_accuracy': {'doubleValue': 0.699999988079071},\n",
       "     'post_export_metrics/example_count': {'doubleValue': 15.0},\n",
       "     'post_export_metrics/example_weight': {'doubleValue': 3254589.0},\n",
       "     'precision': {'doubleValue': 1.0},\n",
       "     'prediction/mean': {'doubleValue': 0.20369455218315125},\n",
       "     'recall': {'doubleValue': 0.4112396836280823}}}}),\n",
       " ((('occupation', ' Sales'),),\n",
       "  {'': {'': {'accuracy': {'doubleValue': 0.8263055086135864},\n",
       "     'accuracy_baseline': {'doubleValue': 0.7313516139984131},\n",
       "     'auc': {'doubleValue': 0.9146040081977844},\n",
       "     'auc_precision_recall': {'doubleValue': 0.8016517758369446},\n",
       "     'average_loss': {'doubleValue': 0.33921897411346436},\n",
       "     'label/mean': {'doubleValue': 0.2686483860015869},\n",
       "     'mirco_accuracy': {'doubleValue': 0.6963852047920227},\n",
       "     'post_export_metrics/example_count': {'doubleValue': 5504.0},\n",
       "     'post_export_metrics/example_weight': {'doubleValue': 1048419290.0},\n",
       "     'precision': {'doubleValue': 0.8525217175483704},\n",
       "     'prediction/mean': {'doubleValue': 0.20948301255702972},\n",
       "     'recall': {'doubleValue': 0.4273841679096222}}}}),\n",
       " ((('occupation', ' Craft-repair'),),\n",
       "  {'': {'': {'accuracy': {'doubleValue': 0.8061856031417847},\n",
       "     'accuracy_baseline': {'doubleValue': 0.77475905418396},\n",
       "     'auc': {'doubleValue': 0.8460395336151123},\n",
       "     'auc_precision_recall': {'doubleValue': 0.6328706741333008},\n",
       "     'average_loss': {'doubleValue': 0.39323318004608154},\n",
       "     'label/mean': {'doubleValue': 0.22524093091487885},\n",
       "     'mirco_accuracy': {'doubleValue': 0.5775386095046997},\n",
       "     'post_export_metrics/example_count': {'doubleValue': 6112.0},\n",
       "     'post_export_metrics/example_weight': {'doubleValue': 1175086915.0},\n",
       "     'precision': {'doubleValue': 0.8937565088272095},\n",
       "     'prediction/mean': {'doubleValue': 0.1751735806465149},\n",
       "     'recall': {'doubleValue': 0.15834671258926392}}}}),\n",
       " ((('occupation', ' Transport-moving'),),\n",
       "  {'': {'': {'accuracy': {'doubleValue': 0.8205713033676147},\n",
       "     'accuracy_baseline': {'doubleValue': 0.795518696308136},\n",
       "     'auc': {'doubleValue': 0.8277298808097839},\n",
       "     'auc_precision_recall': {'doubleValue': 0.5596768260002136},\n",
       "     'average_loss': {'doubleValue': 0.38558945059776306},\n",
       "     'label/mean': {'doubleValue': 0.2044813185930252},\n",
       "     'mirco_accuracy': {'doubleValue': 0.5638877153396606},\n",
       "     'post_export_metrics/example_count': {'doubleValue': 2355.0},\n",
       "     'post_export_metrics/example_weight': {'doubleValue': 451101620.0},\n",
       "     'precision': {'doubleValue': 0.9146265387535095},\n",
       "     'prediction/mean': {'doubleValue': 0.16629092395305634},\n",
       "     'recall': {'doubleValue': 0.13513125479221344}}}}),\n",
       " ((('occupation', ' Machine-op-inspct'),),\n",
       "  {'': {'': {'accuracy': {'doubleValue': 0.891395092010498},\n",
       "     'accuracy_baseline': {'doubleValue': 0.8813208341598511},\n",
       "     'auc': {'doubleValue': 0.893052339553833},\n",
       "     'auc_precision_recall': {'doubleValue': 0.5250335931777954},\n",
       "     'average_loss': {'doubleValue': 0.24869251251220703},\n",
       "     'label/mean': {'doubleValue': 0.11867915838956833},\n",
       "     'mirco_accuracy': {'doubleValue': 0.5414779782295227},\n",
       "     'post_export_metrics/example_count': {'doubleValue': 3022.0},\n",
       "     'post_export_metrics/example_weight': {'doubleValue': 583884206.0},\n",
       "     'precision': {'doubleValue': 0.9750013947486877},\n",
       "     'prediction/mean': {'doubleValue': 0.08870651572942734},\n",
       "     'recall': {'doubleValue': 0.0871199294924736}}}}),\n",
       " ((('occupation', ' Protective-serv'),),\n",
       "  {'': {'': {'accuracy': {'doubleValue': 0.7488195300102234},\n",
       "     'accuracy_baseline': {'doubleValue': 0.6855120658874512},\n",
       "     'auc': {'doubleValue': 0.8547083139419556},\n",
       "     'auc_precision_recall': {'doubleValue': 0.7295323610305786},\n",
       "     'average_loss': {'doubleValue': 0.4583281874656677},\n",
       "     'label/mean': {'doubleValue': 0.3144879639148712},\n",
       "     'mirco_accuracy': {'doubleValue': 0.615086555480957},\n",
       "     'post_export_metrics/example_count': {'doubleValue': 983.0},\n",
       "     'post_export_metrics/example_weight': {'doubleValue': 198104252.0},\n",
       "     'precision': {'doubleValue': 0.881334662437439},\n",
       "     'prediction/mean': {'doubleValue': 0.2274777591228485},\n",
       "     'recall': {'doubleValue': 0.2326241433620453}}}}),\n",
       " ((('occupation', ' Prof-specialty'),),\n",
       "  {'': {'': {'accuracy': {'doubleValue': 0.7888376116752625},\n",
       "     'accuracy_baseline': {'doubleValue': 0.5421005487442017},\n",
       "     'auc': {'doubleValue': 0.8974395990371704},\n",
       "     'auc_precision_recall': {'doubleValue': 0.8818594813346863},\n",
       "     'average_loss': {'doubleValue': 0.4394620656967163},\n",
       "     'label/mean': {'doubleValue': 0.45789945125579834},\n",
       "     'mirco_accuracy': {'doubleValue': 0.7823787927627563},\n",
       "     'post_export_metrics/example_count': {'doubleValue': 6171.0},\n",
       "     'post_export_metrics/example_weight': {'doubleValue': 1144259641.0},\n",
       "     'precision': {'doubleValue': 0.8519868850708008},\n",
       "     'prediction/mean': {'doubleValue': 0.36464184522628784},\n",
       "     'recall': {'doubleValue': 0.6521392464637756}}}}),\n",
       " ((('occupation', ' Exec-managerial'),),\n",
       "  {'': {'': {'accuracy': {'doubleValue': 0.7869881391525269},\n",
       "     'accuracy_baseline': {'doubleValue': 0.5207949876785278},\n",
       "     'auc': {'doubleValue': 0.8984054327011108},\n",
       "     'auc_precision_recall': {'doubleValue': 0.8878244757652283},\n",
       "     'average_loss': {'doubleValue': 0.4424404501914978},\n",
       "     'label/mean': {'doubleValue': 0.47920501232147217},\n",
       "     'mirco_accuracy': {'doubleValue': 0.7747418880462646},\n",
       "     'post_export_metrics/example_count': {'doubleValue': 6085.0},\n",
       "     'post_export_metrics/example_weight': {'doubleValue': 1132574915.0},\n",
       "     'precision': {'doubleValue': 0.8658738732337952},\n",
       "     'prediction/mean': {'doubleValue': 0.3739529550075531},\n",
       "     'recall': {'doubleValue': 0.6573079824447632}}}}),\n",
       " ((('occupation', ' Other-service'),),\n",
       "  {'': {'': {'accuracy': {'doubleValue': 0.9627848267555237},\n",
       "     'accuracy_baseline': {'doubleValue': 0.9591611623764038},\n",
       "     'auc': {'doubleValue': 0.9169000387191772},\n",
       "     'auc_precision_recall': {'doubleValue': 0.39292946457862854},\n",
       "     'average_loss': {'doubleValue': 0.1139269694685936},\n",
       "     'label/mean': {'doubleValue': 0.04083883389830589},\n",
       "     'mirco_accuracy': {'doubleValue': 0.5771599411964417},\n",
       "     'post_export_metrics/example_count': {'doubleValue': 4923.0},\n",
       "     'post_export_metrics/example_weight': {'doubleValue': 925171155.0},\n",
       "     'precision': {'doubleValue': 0.7144966125488281},\n",
       "     'prediction/mean': {'doubleValue': 0.057419344782829285},\n",
       "     'recall': {'doubleValue': 0.14778141677379608}}}}),\n",
       " ((('occupation', ' Adm-clerical'),),\n",
       "  {'': {'': {'accuracy': {'doubleValue': 0.8934295177459717},\n",
       "     'accuracy_baseline': {'doubleValue': 0.8656424283981323},\n",
       "     'auc': {'doubleValue': 0.9382082223892212},\n",
       "     'auc_precision_recall': {'doubleValue': 0.7204864025115967},\n",
       "     'average_loss': {'doubleValue': 0.21248307824134827},\n",
       "     'label/mean': {'doubleValue': 0.13435760140419006},\n",
       "     'mirco_accuracy': {'doubleValue': 0.6237519979476929},\n",
       "     'post_export_metrics/example_count': {'doubleValue': 5610.0},\n",
       "     'post_export_metrics/example_weight': {'doubleValue': 1076423438.0},\n",
       "     'precision': {'doubleValue': 0.8645113706588745},\n",
       "     'prediction/mean': {'doubleValue': 0.10805978626012802},\n",
       "     'recall': {'doubleValue': 0.2452501356601715}}}})]"
      ]
     },
     "execution_count": 27,
     "metadata": {},
     "output_type": "execute_result"
    }
   ],
   "source": [
    "eval_result.slicing_metrics"
   ]
  },
  {
   "cell_type": "markdown",
   "metadata": {},
   "source": [
    "## 4. Visalise and analyze evalation results"
   ]
  },
  {
   "cell_type": "code",
   "execution_count": 26,
   "metadata": {},
   "outputs": [
    {
     "data": {
      "application/vnd.jupyter.widget-view+json": {
       "model_id": "805ff31dee4b44d2ba89c01a6512d3c2",
       "version_major": 2,
       "version_minor": 0
      },
      "text/plain": [
       "SlicingMetricsViewer(config={'weightedExamplesColumn': 'post_export_metrics/example_weight'}, data=[{'metrics'…"
      ]
     },
     "metadata": {},
     "output_type": "display_data"
    }
   ],
   "source": [
    "tfma.view.render_slicing_metrics(\n",
    "    result=eval_result, \n",
    "    slicing_column='occupation'\n",
    ")"
   ]
  },
  {
   "cell_type": "code",
   "execution_count": null,
   "metadata": {},
   "outputs": [],
   "source": []
  }
 ],
 "metadata": {
  "kernelspec": {
   "display_name": "Python 3",
   "language": "python",
   "name": "python3"
  },
  "language_info": {
   "codemirror_mode": {
    "name": "ipython",
    "version": 3
   },
   "file_extension": ".py",
   "mimetype": "text/x-python",
   "name": "python",
   "nbconvert_exporter": "python",
   "pygments_lexer": "ipython3",
   "version": "3.5.6"
  }
 },
 "nbformat": 4,
 "nbformat_minor": 4
}
